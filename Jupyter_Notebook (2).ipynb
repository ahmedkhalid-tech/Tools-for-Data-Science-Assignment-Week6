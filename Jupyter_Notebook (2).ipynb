{
 "cells": [
  {
   "cell_type": "markdown",
   "metadata": {},
   "source": [
    "<center>\n",
    "    <img src=\"https://cf-courses-data.s3.us.cloud-object-storage.appdomain.cloud/IBMDeveloperSkillsNetwork-DS0105EN-SkillsNetwork/labs/Module2/images/SN_web_lightmode.png\" width=\"300\" alt=\"cognitiveclass.ai logo\">\n",
    "</center>\n"
   ]
  },
  {
   "cell_type": "markdown",
   "metadata": {},
   "source": [
    "#### Add your code below following the instructions given in the course\n"
   ]
  },
  {
   "cell_type": "markdown",
   "metadata": {},
   "source": [
    "# My First Notebook"
   ]
  },
  {
   "cell_type": "markdown",
   "metadata": {
    "tags": []
   },
   "source": [
    "## Introduction"
   ]
  },
  {
   "cell_type": "markdown",
   "metadata": {},
   "source": [
    "### Data Science Languages \n",
    "1. Python \n",
    "2. R \n",
    "3. SQL\n",
    "4. Julia \n",
    "5. Scala"
   ]
  },
  {
   "cell_type": "markdown",
   "metadata": {
    "tags": []
   },
   "source": [
    "### Data Science Libraries \n",
    "1. NumPy\n",
    "2. Pandas\n",
    "3. Matplotlib\n",
    "4. scikit-learn\n",
    "5. TensorFlow\n",
    "6. PyTorch"
   ]
  },
  {
   "cell_type": "markdown",
   "metadata": {},
   "source": [
    "### Table for data Science Tools \n",
    "| **Category**   | **Python**                                    | **R**                                            | **SQL**                                                |\n",
    "|----------------|-----------------------------------------------|-------------------------------------------------|--------------------------------------------------------|\n",
    "| **Data Manipulation** | NumPy, Pandas, Dask                        | dplyr, data.table                                | SQL Server, MySQL, PostgreSQL, Oracle, SQLite           |\n",
    "| **Data Visualization** | Matplotlib, Seaborn, Plotly, Bokeh, Altair | ggplot2, Plotly, ggvis, lattice, shiny          | Tableau, Power BI, matplotlib, ggplot2                 |\n",
    "| **Machine Learning**   | scikit-learn, TensorFlow, PyTorch, Keras    | caret, randomForest, xgboost, rpart, mlr        | SQL Server ML Services, Oracle Data Mining, TensorFlow |\n",
    "| **Deep Learning**      | TensorFlow, PyTorch, Keras, MXNet            | TensorFlow, Keras, MXNet, h2o, Caffe, deepnet   | N/A                                                    |"
   ]
  },
  {
   "cell_type": "markdown",
   "metadata": {},
   "source": [
    "### Introducing arithmetic expression examples"
   ]
  },
  {
   "cell_type": "code",
   "execution_count": 5,
   "metadata": {
    "tags": []
   },
   "outputs": [
    {
     "name": "stdout",
     "output_type": "stream",
     "text": [
      "3\n",
      "4\n"
     ]
    }
   ],
   "source": [
    "#Adding two numbers\n",
    "print(1+2)\n",
    "#multiplying two numbers\n",
    "print(2*2)"
   ]
  },
  {
   "cell_type": "code",
   "execution_count": 7,
   "metadata": {
    "tags": []
   },
   "outputs": [
    {
     "name": "stdout",
     "output_type": "stream",
     "text": [
      "The equivalent hours are: 2.5\n"
     ]
    }
   ],
   "source": [
    "#Minutes to Hours \n",
    "\n",
    "minutes = 150  # Example: 150 minutes\n",
    "\n",
    "hours = minutes / 60\n",
    "\n",
    "print(\"The equivalent hours are:\", hours)\n"
   ]
  },
  {
   "cell_type": "markdown",
   "metadata": {},
   "source": [
    "## Objectives\n",
    "\n",
    "- Perform data preprocessing and cleaning.\n",
    "- Explore and analyze the dataset.\n",
    "- Visualize the data to gain insights.\n",
    "- Build a predictive model using machine learning algorithms.\n",
    "- Evaluate the model's performance and fine-tune it if necessary.\n",
    "- Deploy the trained model for predictions.\n",
    "- Document the process and findings in a clear and concise manner.\n"
   ]
  },
  {
   "cell_type": "markdown",
   "metadata": {},
   "source": [
    "**Author:** Ahmed Khalid\n"
   ]
  }
 ],
 "metadata": {
  "kernelspec": {
   "display_name": "Python",
   "language": "python",
   "name": "conda-env-python-py"
  },
  "language_info": {
   "codemirror_mode": {
    "name": "ipython",
    "version": 3
   },
   "file_extension": ".py",
   "mimetype": "text/x-python",
   "name": "python",
   "nbconvert_exporter": "python",
   "pygments_lexer": "ipython3",
   "version": "3.7.12"
  }
 },
 "nbformat": 4,
 "nbformat_minor": 4
}
